{
 "cells": [
  {
   "cell_type": "markdown",
   "metadata": {
    "id": "xq__bChjD04e"
   },
   "source": [
    "# Python Assignment 1"
   ]
  },
  {
   "cell_type": "markdown",
   "metadata": {
    "id": "y7j2V0UDMYLG"
   },
   "source": [
    "⏱⏱⏱**Due: 10/19/2025 11:59:59 PM** ⏱⏱⏱\n",
    "\n",
    "Submit this notebook file and upload it to your git repo. Include a link to your git repo while submitting this file to Brightspace.\n",
    "\n",
    "You are not allowed to use chatgpt or any LLM in this assignment.\n",
    "Cooperation is allowed and encouraged; however, you must write up and submit your own work. If you cooperate with others, you must list their names here."
   ]
  },
  {
   "cell_type": "markdown",
   "metadata": {
    "id": "SUS30Ew9D04n"
   },
   "source": [
    "Total points: 100 (equivalent to 20 points after conversion)"
   ]
  },
  {
   "cell_type": "markdown",
   "metadata": {
    "id": "b_bgT3b2GYTB"
   },
   "source": [
    "## 0. Data Types, Structures, Indexing, and Slicing"
   ]
  },
  {
   "cell_type": "markdown",
   "metadata": {
    "id": "6yI1Jt57IwV2"
   },
   "source": [
    "Read the lecutre note as well as [this page](https://www.geeksforgeeks.org/mutable-vs-immutable-objects-in-python/) and [this page](https://www.geeksforgeeks.org/difference-between-shallow-and-deep-copy-of-a-class/). Complete the following questions.\n",
    "\n",
    "(5 points) Give some examples (at least 2) of mutable objects in Python.\n",
    "\n",
    "***Answer:***\n",
    "Mutability of an object means you can change or modify the object after creating it.\n",
    "Examples: Lists, dictonaries, sets\n",
    "\n",
    "---\n",
    "\n",
    "\n",
    "\n",
    "(5 points) Give some examples (at least 2) of immutable objects in Python.\n",
    "\n",
    "***Answer:***\n",
    "An immutable object can't be changed after it is created.\n",
    "Examples: Int, float, bool, string, Unicode, and tuple\n",
    "\n",
    "---\n",
    "\n",
    "\n",
    "\n",
    "(10 points) State the differences between assignment, shallow copy, and deep copy. Any reasonable answer will get full credit.\n",
    "\n",
    "***Answer:***\n",
    "Assignment behaves differently depending on whether the object is mutable or immutable. If it is mutable, the equals sign creates an \"alias\" that points to the same object. When the \"alias\" is changed, the original object is too. If it is immutable, the equals sign copies the value. Shallow and deep copies are different when the object is compound. A shallow copy makes a new compound object and then adds references into it of the objects from the original. A deep copy makes a new compound object and then adds copies into it of the objects from the original. Shallow copies show changes made to the copied object in the original object, but deep copies don't. Shallow copies are faster than deep copies. Shallow copies make new outer objects but still reference the same nested objects, so modifications to the nested elements are shared. Deep copies recursively copy all levels of the object, making an independent duplicate. Assignment and shallow copy maintain connection between the original and the copy, while deep copies ensure changes in one object do not affect the other object.\n",
    "\n",
    "---\n",
    "\n",
    "\n",
    "\n"
   ]
  },
  {
   "cell_type": "markdown",
   "metadata": {
    "id": "OA8DxcrrGqZD"
   },
   "source": [
    "(10 points) Using string methods find() and rfind(), find the index of the first digit (i.e. 0) and the index of the last digit (5) in the string below. Then, using string slicing, extract the number (i.e. 0.595595) from this string and convert the extracted value to a floating point number. Print out this float to the console."
   ]
  },
  {
   "cell_type": "code",
   "execution_count": 4,
   "metadata": {
    "id": "AUuFXXWqG4D3"
   },
   "outputs": [
    {
     "name": "stdout",
     "output_type": "stream",
     "text": [
      "0.595595\n"
     ]
    }
   ],
   "source": [
    "text = \"F-DGFDDSFGFD-CFDSHdstgfdfe: tfsd  aaa bdsf 0.595595 fdsgfdbc\";\n",
    "\n",
    "# find('0') finds first occurence of '0'\n",
    "index_first_digit = text.find('0')\n",
    "# rfind('5') finds last occurence of '5'\n",
    "index_last_digit = text.rfind('5')\n",
    "# extracts characters from start index up to and including the last index \n",
    "extr_num = text[index_first_digit:index_last_digit + 1]\n",
    "# converts extracted number to float\n",
    "num_to_float = float(extr_num)\n",
    "# print float to console\n",
    "print(num_to_float)"
   ]
  },
  {
   "cell_type": "markdown",
   "metadata": {
    "id": "cnCljYgpD04p"
   },
   "source": [
    "## 1. Conditional Statements\n",
    "\n",
    "(10 points)\n",
    "Translate the following MATLAB code into Python using `if-elif-else`.\n",
    "```\n",
    "n = input('Enter a number: ');\n",
    "\n",
    "switch n\n",
    "    case -1\n",
    "        disp('negative one')\n",
    "    case 0\n",
    "        disp('zero')\n",
    "    case 1\n",
    "        disp('positive one')\n",
    "    otherwise\n",
    "        disp('other value')\n",
    "end\n",
    "```"
   ]
  },
  {
   "cell_type": "code",
   "execution_count": 18,
   "metadata": {
    "id": "9d8vl5zjD04q"
   },
   "outputs": [
    {
     "name": "stdin",
     "output_type": "stream",
     "text": [
      "Enter a number:  2\n"
     ]
    },
    {
     "name": "stdout",
     "output_type": "stream",
     "text": [
      "other value\n"
     ]
    }
   ],
   "source": [
    "# int converts string from input to integer so numeric comparisons work\n",
    "n = int(input('Enter a number: '))\n",
    "if n == -1:\n",
    "    print('negative one')\n",
    "elif n == 0:\n",
    "    print('zero')\n",
    "elif n == 1:\n",
    "    print('positive one')\n",
    "else:\n",
    "    print('other value')"
   ]
  },
  {
   "cell_type": "markdown",
   "metadata": {
    "id": "sW9XiUPpD04s"
   },
   "source": [
    "## 2. While Loops\n",
    "\n",
    "(10 points) Write a Python program that calculates the factorial of a given number (you can assume an positive integer) using a while loop. Display the result to the console."
   ]
  },
  {
   "cell_type": "code",
   "execution_count": 8,
   "metadata": {
    "colab": {
     "base_uri": "https://localhost:8080/"
    },
    "id": "CRCERx8uD04t",
    "outputId": "1870b9d1-fe04-4ae7-e5ec-08ce640ce72e"
   },
   "outputs": [
    {
     "name": "stdin",
     "output_type": "stream",
     "text": [
      "Enter a positive integer:  13\n"
     ]
    },
    {
     "name": "stdout",
     "output_type": "stream",
     "text": [
      "The factorial of 13 is 6227020800\n"
     ]
    }
   ],
   "source": [
    "# have user give positive integer\n",
    "n = int(input('Enter a positive integer: ')) \n",
    "\n",
    "# initialize variables\n",
    "factorial = 1\n",
    "i = 1\n",
    "\n",
    "# calculate factorial\n",
    "while i <= n:\n",
    "    factorial *= i\n",
    "    i += 1\n",
    "\n",
    "# display result\n",
    "print(\"The factorial of\", n, \"is\", factorial)\n",
    "\n",
    "# test cases\n",
    "# n = 17, Output: 355687428096000\n",
    "# n = 13, Output: 6227020800"
   ]
  },
  {
   "cell_type": "markdown",
   "metadata": {
    "id": "ZQ5SVMq6D04w"
   },
   "source": [
    "## 3. Functions\n",
    "\n",
    "(10 points) Write a function that determines if a number is prime."
   ]
  },
  {
   "cell_type": "code",
   "execution_count": 42,
   "metadata": {
    "colab": {
     "base_uri": "https://localhost:8080/"
    },
    "id": "6rGP5G3_D04x",
    "outputId": "00df2d17-b697-4146-968f-be4fa7cc3ba3"
   },
   "outputs": [
    {
     "name": "stdout",
     "output_type": "stream",
     "text": [
      "True\n",
      "False\n",
      "True\n"
     ]
    }
   ],
   "source": [
    "def is_prime(n):\n",
    "    if n <= 1: # prime numbers are greater than 1\n",
    "        return False\n",
    "\n",
    "    i = 2 # initialize i\n",
    "    while i * i <= n: # factor pairs repeat in reverse after the square root so only check for i less than or equal to square root of n\n",
    "        if n % i == 0: # if n divides evenly by i, its not prime\n",
    "            return False\n",
    "        i += 1 # increment counter\n",
    "    return True # if no divisors are found, the number is prime\n",
    "\n",
    "# test cases\n",
    "print(is_prime(2))      # Output: True\n",
    "print(is_prime(10))     # Output: False\n",
    "print(is_prime(17))     # Output: True"
   ]
  },
  {
   "cell_type": "markdown",
   "metadata": {
    "id": "Z6qg-fpQD04u"
   },
   "source": [
    "## 4. List Comprehension\n",
    "\n",
    "(10 points) Write a Python function called `prime_factors` that takes a relatively small integer as input and returns a list of its distinct prime factors. The function should use list comprehension to generate the list of distinct prime factors. You may use the function is_prime() defined in Q3.\n"
   ]
  },
  {
   "cell_type": "code",
   "execution_count": 28,
   "metadata": {
    "colab": {
     "base_uri": "https://localhost:8080/"
    },
    "id": "2hSCjYlOD04v",
    "outputId": "1024d2e2-7d24-4e65-9529-e5a82d2a3211"
   },
   "outputs": [
    {
     "name": "stdout",
     "output_type": "stream",
     "text": [
      "[2, 3, 5]\n",
      "[2, 7]\n",
      "[2, 3, 11]\n",
      "[2, 29]\n"
     ]
    }
   ],
   "source": [
    "def prime_factors(n):\n",
    "    # find prime numbers that divide n evenly, check all numbers between 2 and n\n",
    "    return [i for i in range(2, n+1) if n % i == 0 and is_prime(i)]\n",
    "\n",
    "# test cases\n",
    "print(prime_factors(30))  # Output: [2, 3, 5]\n",
    "print(prime_factors(56))  # Output: [2, 7]\n",
    "print(prime_factors(198))  # Output: [2, 3, 11]\n",
    "print(prime_factors(464))  # Output: [2, 29]"
   ]
  },
  {
   "cell_type": "markdown",
   "metadata": {
    "id": "dw4kZZCiD040"
   },
   "source": [
    "## 5. Recursive Functions\n",
    "(25 points) Write a function that uses recursion to generate the $n$th row of the Pascal's triangle.\n",
    "```\n",
    "              1\n",
    "           1     1\n",
    "        1     2     1\n",
    "      1    3     3     1\n",
    "   1    4     6     4    1\n",
    "1     5    10    10    5    1\n",
    "...\n",
    "...\n",
    "...\n",
    "```"
   ]
  },
  {
   "cell_type": "code",
   "execution_count": 32,
   "metadata": {
    "colab": {
     "base_uri": "https://localhost:8080/"
    },
    "id": "V8QFB_gKD040",
    "outputId": "4946dc49-2061-4057-e65d-9f48af44dac9"
   },
   "outputs": [
    {
     "name": "stdout",
     "output_type": "stream",
     "text": [
      "[1, 5, 10, 10, 5, 1]\n"
     ]
    }
   ],
   "source": [
    "def pascal(n):\n",
    "    # for first row it is [1]\n",
    "    if n <= 1: \n",
    "        return [1]\n",
    "\n",
    "    # use previous row to build new row\n",
    "    previous_row = pascal(n-1)\n",
    "    # all rows start with 1\n",
    "    new_row = [1]\n",
    "\n",
    "    # each inner element of row calculated by adding the two numbers above it\n",
    "    for i in range(len(previous_row) - 1):\n",
    "        new_row.append(previous_row[i] + previous_row[i+1])\n",
    "\n",
    "    # all rows end with 1\n",
    "    new_row.append(1) \n",
    "    # display the desired row\n",
    "    return new_row\n",
    "\n",
    "# test case\n",
    "print(pascal(6))  # output [1, 5, 10, 10, 5, 1]"
   ]
  },
  {
   "cell_type": "markdown",
   "metadata": {
    "id": "eZytgm0qD041"
   },
   "source": [
    "Rewrite the above function using only `while` or `for` loops instead of recursion."
   ]
  },
  {
   "cell_type": "code",
   "execution_count": 38,
   "metadata": {
    "colab": {
     "base_uri": "https://localhost:8080/"
    },
    "id": "UZ8f-akaD041",
    "outputId": "68ec5672-a40f-493f-e725-68b7471e76bc"
   },
   "outputs": [
    {
     "name": "stdout",
     "output_type": "stream",
     "text": [
      "[1, 5, 10, 10, 5, 1]\n"
     ]
    }
   ],
   "source": [
    "def pascal_by_loops(n):\n",
    "    # start with first row\n",
    "    row = [1]\n",
    "    # generate subsequent rows up to the nth\n",
    "    for _ in range(1,n):\n",
    "        new_row = [1] # all rows start with 1\n",
    "        # for middle values of row, sum adjacent elements of previous row\n",
    "        for i in range(len(row) - 1):\n",
    "            new_row.append(row[i] + row[i+1])\n",
    "        new_row.append(1) # all rows end with 1\n",
    "        row = new_row # go on to next row\n",
    "    return row # return nth row\n",
    "\n",
    "print(pascal_by_loops(6))"
   ]
  },
  {
   "cell_type": "markdown",
   "metadata": {
    "id": "HvHD6QHzVo9I"
   },
   "source": [
    "\n",
    "\n",
    "---\n",
    "\n",
    "\n",
    "（5 points) good coding practice and properly submitting your work to GitHub."
   ]
  }
 ],
 "metadata": {
  "anaconda-cloud": {},
  "colab": {
   "provenance": []
  },
  "kernelspec": {
   "display_name": "Python [conda env:base] *",
   "language": "python",
   "name": "conda-base-py"
  },
  "language_info": {
   "codemirror_mode": {
    "name": "ipython",
    "version": 3
   },
   "file_extension": ".py",
   "mimetype": "text/x-python",
   "name": "python",
   "nbconvert_exporter": "python",
   "pygments_lexer": "ipython3",
   "version": "3.12.7"
  }
 },
 "nbformat": 4,
 "nbformat_minor": 4
}
